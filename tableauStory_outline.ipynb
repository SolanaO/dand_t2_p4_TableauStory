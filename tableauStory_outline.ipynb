{
 "cells": [
  {
   "cell_type": "markdown",
   "metadata": {},
   "source": [
    "# PISA2012 - A Tableau Story"
   ]
  },
  {
   "cell_type": "markdown",
   "metadata": {},
   "source": [
    "## Summary\n",
    "\n",
    "PISA is an international survey of students' skills and knowledge in reading, mathematics and science as they approach the end of compulsory education. In 2012 around half million students from more than 60 countries took this complex set of tests. In this report, PISA 2012 will be used to investigate the differences in achievement in mathematics tests based on location, gender and student attitudes. "
   ]
  },
  {
   "cell_type": "markdown",
   "metadata": {},
   "source": [
    "## Design\n",
    "\n",
    "The design of the Story is based on two factors: the main message/idea of the story (as described in the summary) and the possible audience for the presentation. It is assumed that the audience has some basic statistical knowledge and some interest or experience with math education. \n",
    "\n",
    "After an initial description of the context, it is emphasized how certain metrics (such as math proficiency scores, indices that measure attitude towards math) differ with gender and location. \n",
    "The main measure to work with is the math proficiency score. In order to avoid information overload, only three indices are chosen from the long list of options which measure various attitudes towards math. These are math anxiety, math interest and math intentions.\n",
    "\n",
    "Maps with highlighting options and bubble graphs are used to give a visual understanding on how the variables are changing with location. \n",
    "\n",
    "The PISA testing process is quite complex, the literature is extensive and it is the author's opinion that some specific information has to accompany the visualizations. This includes details on the mathematics proficiency levels and on how several mathematics indices are computed. This information is inserted as text boxes in dashboards. \n",
    "\n",
    "To enhance the visual appearance of the Story various types of graphs are used, the gender is color coded and filters are provided to the reader. Numerical details are included in tooltips. \n",
    "\n",
    "Two types of numerical information are used, one that is based on percentages and the second that is based on actual counts. In the author's opinion alternating between the two approaches will encourage a conversation on how various countries participate in the survey, how the data is distributed worldwide and on genders and how statistically accurate this information is.\n",
    "\n",
    "For clarity and conciseness some of the variables and abbreviations are renamed, the tooltips and the axes names are edited. \n",
    "\n",
    "Numerous improvements to the presentation are due to the feedback from my two friends John and Gregory as discussed below.  \n",
    "\n",
    "*John's feedback mainly suggests that the tooltips are not well written and in many cases the axes' names or the information in the legends of the graphs is not properly explained. The tooltips are simplified and more explanatory names are given to several variables.*\n",
    "\n",
    "#### Specific changes due to John's feedback\n",
    "1. For the purpose of this report, the separate entries for states in USA or regions in China were combined together. This was done in Python and the csv file was updated. \n",
    "2. The average math scores are added to the tooltip in the map on Page1 of Story.\n",
    "3. The tooltip for the bar chart on Page2 is edited for clarity.\n",
    "4. The tooltip for the boxplots on Page2 is updated.\n",
    "5. The MathScoreQ1_percent (also for Q3) computations are slightly changed, the variables are renamed in order to obtain a more comprehensible description without sacrificing the information provided. The map on Page4 is changed into a more visually appealing version. The explanatory paragraphs on both pages are updated.\n",
    "6. The tooltip for the heat map on Page6 is updated, the map is slighlty changed to make it more suggestive.\n",
    "7. Page7 is updated with a couple of bar charts that provide the gender distribution for the two groups of students at Levels 1 and 3.\n",
    "8. The correlation index between the two variables is addded to the information on Page10.\n",
    "\n",
    "*Gregory's main idea is that the explanatory paragraphs from various pages as well as the story points are not always clear and concise. The text inserts are reviewed and rephrased for more clarity.*\n",
    "\n",
    "#### Specific changes due to Gregory's feedback\n",
    "1. The bar chart is removed, the information provided by it is available now in the tooltip of the map on Page1 of Story.\n",
    "2. On Page2 of Story, the countries in the Gantt graph are listed now in alphabetical order.\n",
    "3. The explanatory paragraphs on Page3 and Page4 are updated.\n",
    "4. Several misspellings in the story points are corrected.\n",
    "5. The text inserts and the story points on Page8 and Page9 are updated."
   ]
  },
  {
   "cell_type": "markdown",
   "metadata": {},
   "source": [
    "## Feedback\n",
    "\n",
    "### John's feedback\n",
    "1. Among the list of countries, I found entries such as Florida (USA), why are they listed as separate entities? \n",
    "2. It would be nice to have the average math scores showing when hovering over the map on Page1 of Story.\n",
    "3. On Page2, regarding the bar chart in the upper right corner: the information that shows in the tooltip is not explained and poorly phrased.\n",
    "4. The pop-ups obtained by hovering over the vertical lines of the boxplots on Page2 have the same data written twice. \n",
    "5. On Page3 and Page4, what do MathScoreQ1_percent and MathScoreQ3_percent represent? The two maps look very different.\n",
    "6. What does the green graph on Page6 represent?\n",
    "7. It is not clear how the MathInterest varies with gender, the ratios/percentages for the number of boys and girls are not provided.\n",
    "8. Can we get the correlation index between the MathAnxiety and MathInterest on Page10?\n",
    "\n",
    "\n",
    "### Gregory's feedback\n",
    "1. The country names on the bar chart on Page1 of Story are hard to read and one cannot scroll all the way to the right to see all the countries in the list.\n",
    "2. What criteria was used to list the countries in the large graph on Page2 of Story?\n",
    "3. The explanatory paragraphs need rephrasing on Page3 and Page4, they do not explain the notations from the graphs.\n",
    "4. Review the description of Page6, do a spell check. \n",
    "5. Review the descriptions on Page8 and Page9. Keep the details, but rephrase, maybe use one questionnaire question only as a suggestive example.  "
   ]
  },
  {
   "cell_type": "markdown",
   "metadata": {},
   "source": [
    "## Resources\n",
    "\n",
    "1. PISA data sets provided by Udacity [link](https://docs.google.com/document/d/1w7KhqotVi5eoKE3I_AZHbsxdr-NmcWsLTIiZrpxWx4w/pub?embedded=true). \n",
    "2. Information and details available at [Programme for International Student Assessment (PISA)](https://www.oecd.org/pisa/pisaproducts/datavisualizationcontest.htm).\n",
    "3. [PISA 2012 Technical Report](https://www.oecd.org/pisa/pisaproducts/PISA-2012-technical-report-final.pdf) (Chapter 16).\n",
    "4. [PISA International Data Explorer](https://nces.ed.gov/surveys/pisa/idepisa/).\n",
    "5. [How to work with large files in Python](https://pythondata.com/working-large-csv-files-python/), by Eric Brown."
   ]
  },
  {
   "cell_type": "markdown",
   "metadata": {},
   "source": [
    "## Data Files\n",
    "\n",
    "1. pisadict2012_clean.csv - cleaned and trimmed list of codes and abbreviations;\n",
    "2. pisa2012_clean.csv - cleaned and trimmed data file;\n",
    "3. PISA_dataWrangle.ipynb - Jupyter notebook with Python code used to wrangle the two data files;\n",
    "4. PISA_dataWrangle.html - the html version of the notebook from part 3;\n",
    "5. tableauStory_outline.ipynb - this Jupyter Markdown document, contains a description of the project;\n",
    "6. tableauStory_outline.html - the html version of the Markdown document from part 5. "
   ]
  },
  {
   "cell_type": "markdown",
   "metadata": {
    "collapsed": true
   },
   "source": [
    "## Links to Tableau Stories\n",
    "\n",
    "* Link to [Story. Initial Version](https://public.tableau.com/views/pisa2012_story_initial/Story1?:embed=y&:display_count=yes).\n",
    "* Link to [Story. Final Version](https://public.tableau.com/views/pisa2012_story_final/Story1?:embed=y&:display_count=yes)."
   ]
  },
  {
   "cell_type": "code",
   "execution_count": null,
   "metadata": {
    "collapsed": true
   },
   "outputs": [],
   "source": []
  }
 ],
 "metadata": {
  "kernelspec": {
   "display_name": "Python 3",
   "language": "python",
   "name": "python3"
  },
  "language_info": {
   "codemirror_mode": {
    "name": "ipython",
    "version": 3
   },
   "file_extension": ".py",
   "mimetype": "text/x-python",
   "name": "python",
   "nbconvert_exporter": "python",
   "pygments_lexer": "ipython3",
   "version": "3.6.3"
  }
 },
 "nbformat": 4,
 "nbformat_minor": 2
}
